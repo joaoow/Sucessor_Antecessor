{
  "nbformat": 4,
  "nbformat_minor": 0,
  "metadata": {
    "colab": {
      "provenance": []
    },
    "kernelspec": {
      "name": "python3",
      "display_name": "Python 3"
    },
    "language_info": {
      "name": "python"
    }
  },
  "cells": [
    {
      "cell_type": "code",
      "execution_count": 3,
      "metadata": {
        "colab": {
          "base_uri": "https://localhost:8080/"
        },
        "id": "tB8y5d4GRoxV",
        "outputId": "4163bde6-56d8-4a7f-d2b6-689f73975353"
      },
      "outputs": [
        {
          "output_type": "stream",
          "name": "stdout",
          "text": [
            "Digite um número: 5\n",
            "Analisando o valor 5, seu antecessor é 4, e o sucessor é 6\n"
          ]
        }
      ],
      "source": [
        "n = eval(input('Digite um número: '))\n",
        "antecessor = n - 1\n",
        "sucessor = n + 1\n",
        "print('Analisando o valor {}, seu antecessor é {}, e o sucessor é {}'.format(n, antecessor, sucessor))\n"
      ]
    }
  ]
}